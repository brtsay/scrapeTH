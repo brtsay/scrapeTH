{
 "cells": [
  {
   "cell_type": "markdown",
   "metadata": {},
   "source": [
    "# Intro to Python"
   ]
  },
  {
   "cell_type": "markdown",
   "metadata": {},
   "source": [
    "## Importing Modules"
   ]
  },
  {
   "cell_type": "code",
   "execution_count": 1,
   "metadata": {
    "collapsed": true
   },
   "outputs": [],
   "source": [
    "import csv\n",
    "import re\n",
    "import requests\n",
    "from lxml import html"
   ]
  },
  {
   "cell_type": "markdown",
   "metadata": {},
   "source": [
    "When you import modules, you generally won't see any messages unless Python failed to import the module e.g."
   ]
  },
  {
   "cell_type": "code",
   "execution_count": 2,
   "metadata": {
    "collapsed": false
   },
   "outputs": [
    {
     "ename": "ImportError",
     "evalue": "No module named 'certifi'",
     "output_type": "error",
     "traceback": [
      "\u001b[0;31m---------------------------------------------------------------------------\u001b[0m",
      "\u001b[0;31mImportError\u001b[0m                               Traceback (most recent call last)",
      "\u001b[0;32m<ipython-input-2-94cdc28ccb53>\u001b[0m in \u001b[0;36m<module>\u001b[0;34m()\u001b[0m\n\u001b[0;32m----> 1\u001b[0;31m \u001b[0;32mimport\u001b[0m \u001b[0mcertifi\u001b[0m\u001b[0;34m\u001b[0m\u001b[0m\n\u001b[0m",
      "\u001b[0;31mImportError\u001b[0m: No module named 'certifi'"
     ]
    }
   ],
   "source": [
    "import certifi"
   ]
  },
  {
   "cell_type": "markdown",
   "metadata": {},
   "source": [
    "I get an error message because I never installed the `certify` module. To rectify that, I would type `pip install certifi` in a terminal."
   ]
  },
  {
   "cell_type": "markdown",
   "metadata": {},
   "source": [
    "## Assigning Variables"
   ]
  },
  {
   "cell_type": "markdown",
   "metadata": {},
   "source": [
    "Decide a name for your variable e.g. `myInt` and assign it a value (in this case 2). Note that variables can be of many types, including integers, strings, lists, etc. You can name them whatever you want, but try to pick an informative name that does not conflict with Python's pre-existing variables and functions. For example, it would be unwise to call your variable `int` since it's\n",
    "1. not informative\n",
    "2. has the same name as Python's `int()` function"
   ]
  },
  {
   "cell_type": "code",
   "execution_count": 3,
   "metadata": {
    "collapsed": false
   },
   "outputs": [
    {
     "name": "stdout",
     "output_type": "stream",
     "text": [
      "2\n",
      "Hello! How are you?\n",
      "[2, 'Hello! How are you?', [7, 48]]\n"
     ]
    }
   ],
   "source": [
    "myInt = 2\n",
    "myString = 'Hello! How are you?'\n",
    "myList = [myInt, myString, [10-3, 12*4]]\n",
    "\n",
    "print(myInt)\n",
    "print(myString)\n",
    "print(myList)"
   ]
  },
  {
   "cell_type": "markdown",
   "metadata": {},
   "source": [
    "Note that you can use pre-existing variables to define a new variable (see `myList`). You can also have the outcome of a calculation (like $12\\times4$) be assigned to a variable. Finally, elements of lists can be other lists."
   ]
  },
  {
   "cell_type": "code",
   "execution_count": 4,
   "metadata": {
    "collapsed": false
   },
   "outputs": [
    {
     "name": "stdout",
     "output_type": "stream",
     "text": [
      "2\n",
      "[7, 48]\n",
      "48\n"
     ]
    }
   ],
   "source": [
    "print(myList[0])\n",
    "print(myList[2])\n",
    "print(myList[2][1])"
   ]
  },
  {
   "cell_type": "markdown",
   "metadata": {},
   "source": [
    "Elements of lists can be accessed by their index number. For example, to get the first element of `myList`, I call `myList[0]`. Note that unlike R, Python begins its indices at 0 rather than 1. You can \"nest\" these indices. For example, `myList[2][1]` gets the 2nd element of the 3rd element of `myList`."
   ]
  },
  {
   "cell_type": "markdown",
   "metadata": {},
   "source": [
    "## Getting Help for Functions"
   ]
  },
  {
   "cell_type": "markdown",
   "metadata": {},
   "source": [
    "If you don't know how to use a function or what exactly it's doing, you can try calling the `help()` function"
   ]
  },
  {
   "cell_type": "code",
   "execution_count": 5,
   "metadata": {
    "collapsed": false
   },
   "outputs": [
    {
     "name": "stdout",
     "output_type": "stream",
     "text": [
      "Help on built-in function print in module builtins:\n",
      "\n",
      "print(...)\n",
      "    print(value, ..., sep=' ', end='\\n', file=sys.stdout, flush=False)\n",
      "    \n",
      "    Prints the values to a stream, or to sys.stdout by default.\n",
      "    Optional keyword arguments:\n",
      "    file:  a file-like object (stream); defaults to the current sys.stdout.\n",
      "    sep:   string inserted between values, default a space.\n",
      "    end:   string appended after the last value, default a newline.\n",
      "    flush: whether to forcibly flush the stream.\n",
      "\n"
     ]
    }
   ],
   "source": [
    "help(print)"
   ]
  },
  {
   "cell_type": "markdown",
   "metadata": {},
   "source": [
    "## String Concatenation"
   ]
  },
  {
   "cell_type": "markdown",
   "metadata": {},
   "source": [
    "You can combine strings in Python together simply by adding them together. "
   ]
  },
  {
   "cell_type": "code",
   "execution_count": 3,
   "metadata": {
    "collapsed": false
   },
   "outputs": [
    {
     "name": "stdout",
     "output_type": "stream",
     "text": [
      "This is the end of the sentence\n"
     ]
    }
   ],
   "source": [
    "a = 'This '\n",
    "b = 'is the end of the sentence'\n",
    "print(a+b)"
   ]
  },
  {
   "cell_type": "code",
   "execution_count": 6,
   "metadata": {
    "collapsed": false
   },
   "outputs": [
    {
     "name": "stdout",
     "output_type": "stream",
     "text": [
      "http://news.tsinghua.edu.cn/publish/thunews/9659/20161125111440926399642/20161125111954532883008.jpg\n"
     ]
    }
   ],
   "source": [
    "picDir = '/publish/thunews/9659/20161125111440926399642/20161125111954532883008.jpg'\n",
    "preURL = 'http://news.tsinghua.edu.cn'\n",
    "picFullURL = preURL + picDir\n",
    "print(picFullURL)"
   ]
  },
  {
   "cell_type": "markdown",
   "metadata": {},
   "source": [
    "Make sure that you are keeping track of the types of your variables, otherwise there may be unintended consequences."
   ]
  },
  {
   "cell_type": "code",
   "execution_count": 7,
   "metadata": {
    "collapsed": false
   },
   "outputs": [
    {
     "name": "stdout",
     "output_type": "stream",
     "text": [
      "5\n",
      "23\n"
     ]
    }
   ],
   "source": [
    "print(2+3)\n",
    "print('2' + '3')"
   ]
  },
  {
   "cell_type": "markdown",
   "metadata": {},
   "source": [
    "## For Loops and List Comprehensions"
   ]
  },
  {
   "cell_type": "markdown",
   "metadata": {},
   "source": [
    "If you want to iterate over something and create a new list, you can use a for loop or a list comprehension."
   ]
  },
  {
   "cell_type": "code",
   "execution_count": 6,
   "metadata": {
    "collapsed": false
   },
   "outputs": [
    {
     "name": "stdout",
     "output_type": "stream",
     "text": [
      "Whatever is equal to /placeholder1\n",
      "['http://news.tsinghua.edu.cn/placeholder1']\n",
      "Whatever is equal to /placeholder2\n",
      "['http://news.tsinghua.edu.cn/placeholder1', 'http://news.tsinghua.edu.cn/placeholder2']\n",
      "['http://news.tsinghua.edu.cn/placeholder1', 'http://news.tsinghua.edu.cn/placeholder2']\n"
     ]
    }
   ],
   "source": [
    "urlPaths = ['/placeholder1', '/placeholder2']\n",
    "urls = []                       # create empty list\n",
    "for whatever in urlPaths:\n",
    "    print('Whatever is equal to', whatever)\n",
    "    urls.append('http://news.tsinghua.edu.cn'+whatever) # string concatenation\n",
    "    print(urls)\n",
    "print(urls)"
   ]
  },
  {
   "cell_type": "code",
   "execution_count": 8,
   "metadata": {
    "collapsed": false
   },
   "outputs": [
    {
     "name": "stdout",
     "output_type": "stream",
     "text": [
      "['http://news.tsinghua.edu.cn/placeholder1', 'http://news.tsinghua.edu.cn/placeholder2']\n"
     ]
    }
   ],
   "source": [
    "urls2 = ['http://news.tsinghua.edu.cn'+url for url in urlPaths]\n",
    "print(urls2)"
   ]
  },
  {
   "cell_type": "code",
   "execution_count": 9,
   "metadata": {
    "collapsed": false
   },
   "outputs": [
    {
     "data": {
      "text/plain": [
       "True"
      ]
     },
     "execution_count": 9,
     "metadata": {},
     "output_type": "execute_result"
    }
   ],
   "source": [
    "urls==urls2"
   ]
  },
  {
   "cell_type": "markdown",
   "metadata": {},
   "source": [
    "As can be seen, the two methods produce the same results."
   ]
  },
  {
   "cell_type": "markdown",
   "metadata": {},
   "source": [
    "## Regular Expressions"
   ]
  },
  {
   "cell_type": "markdown",
   "metadata": {},
   "source": [
    "Regular expressions (regex or regexp) allow you to match strings, and can be used in Python via the `re` module."
   ]
  },
  {
   "cell_type": "code",
   "execution_count": 4,
   "metadata": {
    "collapsed": true
   },
   "outputs": [],
   "source": [
    "testString = 'He said \"hello\" and his friend replied \"how are you?\" afterwards'"
   ]
  },
  {
   "cell_type": "markdown",
   "metadata": {},
   "source": [
    "Suppose you wanted to get everything within quotes, which would be \"hello\" and \"how are you\" in this case. Let's try the following regex:"
   ]
  },
  {
   "cell_type": "code",
   "execution_count": 5,
   "metadata": {
    "collapsed": false
   },
   "outputs": [
    {
     "data": {
      "text/plain": [
       "<_sre.SRE_Match object; span=(8, 53), match='\"hello\" and his friend replied \"how are you?\"'>"
      ]
     },
     "execution_count": 5,
     "metadata": {},
     "output_type": "execute_result"
    }
   ],
   "source": [
    "re.search('\"(.*)\"', testString)"
   ]
  },
  {
   "cell_type": "markdown",
   "metadata": {},
   "source": [
    "As can be seen here, the regex matched the entire substring \"hello\" and his friend replied \"how are you\". The span refers to the position of the first match (the 9th character) and the end match (the 54th character). First, let's break down the regex, which in this case is `\"(.*)\"`.\n",
    "- The first quotation mark \" says to find a quotation mark. The first quotation mark is the one before the word 'hello' and is found by the regex.\n",
    "- The dot . says to match any non-line break character.\n",
    "- The asterisk \\* says to *greedily* match the preceding token (the dot in this case) 0 or more times.\n",
    "- The second quotation mark \" says to end with a quotation mark.\n",
    "\n",
    "What's happening is that the regex is behaving *greedily*, where it tries to match as much as possible. Since the dot actually matches nearly every possible character (and certainly every character in `testString`), it actually runs all the way to the end of `testString` (which is the 's' in 'afterwards') before backtracking and matching on the quotation mark after 'how are you?'. It thus returns *everything* between the absolute first quotation mark in `testString` and the absolute last one.\n",
    "\n",
    "What if we did lazy matching instead?"
   ]
  },
  {
   "cell_type": "code",
   "execution_count": 6,
   "metadata": {
    "collapsed": false
   },
   "outputs": [
    {
     "data": {
      "text/plain": [
       "<_sre.SRE_Match object; span=(8, 15), match='\"hello\"'>"
      ]
     },
     "execution_count": 6,
     "metadata": {},
     "output_type": "execute_result"
    }
   ],
   "source": [
    "re.search('\"(.*?)\"', testString)"
   ]
  },
  {
   "cell_type": "markdown",
   "metadata": {},
   "source": [
    "Now, the \\*? says to match the preceding token (the dot, which matches any non-line break character) *lazily*. Instead of trying to match as many as characters as possible, it will now try to match the least. Therefore, it again finds the first quotation mark before 'hello' but now it will end on the quotation mark after 'hello', since this minimally satisfies the expression.\n",
    "\n",
    "If all we wanted was just the first set of quotation marks, this result may be acceptable. However, we wanted both \"hello\" and \"how are you?\". "
   ]
  },
  {
   "cell_type": "code",
   "execution_count": 7,
   "metadata": {
    "collapsed": false
   },
   "outputs": [
    {
     "data": {
      "text/plain": [
       "['hello', 'how are you?']"
      ]
     },
     "execution_count": 7,
     "metadata": {},
     "output_type": "execute_result"
    }
   ],
   "source": [
    "re.findall('\"(.*?)\"', testString)"
   ]
  },
  {
   "cell_type": "markdown",
   "metadata": {},
   "source": [
    "In this case, the solution is simple. Rather than using `re.search`, which will find only the first match, the function `re.findall` will find all matches in the given string.\n",
    "\n",
    "This is only a very, very rudimentary introduction to regular expressions, and there's much more to them than what's presented here. They are very flexible, and you are encouraged to read more about them, especially if you work with a lot of text data."
   ]
  }
 ],
 "metadata": {
  "kernelspec": {
   "display_name": "Python 3",
   "language": "python",
   "name": "python3"
  },
  "language_info": {
   "codemirror_mode": {
    "name": "ipython",
    "version": 3
   },
   "file_extension": ".py",
   "mimetype": "text/x-python",
   "name": "python",
   "nbconvert_exporter": "python",
   "pygments_lexer": "ipython3",
   "version": "3.5.2"
  }
 },
 "nbformat": 4,
 "nbformat_minor": 1
}
